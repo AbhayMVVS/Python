{
 "cells": [
  {
   "cell_type": "code",
   "execution_count": 5,
   "id": "613c3cc3",
   "metadata": {},
   "outputs": [
    {
     "name": "stdout",
     "output_type": "stream",
     "text": [
      "Addition of elements to frozenset is not possible since 'frozenset' object has no attribute 'add'\n",
      "Removing elements from frozenset is not possible since 'frozenset' object has no attribute 'remove'\n",
      "frozenset({1, 3, 5, 7, 9})\n"
     ]
    }
   ],
   "source": [
    "# Demonstrate the immutability of a frozenset\n",
    "FS=frozenset({1,3,5,7,9})\n",
    "try:\n",
    "    FS.add(11)\n",
    "except Exception as e:\n",
    "    print(\"Addition of elements to frozenset is not possible since\",e)\n",
    "try:\n",
    "    FS.remove(9)\n",
    "except Exception as e:\n",
    "    print(\"Removing elements from frozenset is not possible since\",e)\n",
    "\n",
    "print(FS)"
   ]
  },
  {
   "cell_type": "code",
   "execution_count": 6,
   "id": "aa514c76",
   "metadata": {},
   "outputs": [
    {
     "name": "stdout",
     "output_type": "stream",
     "text": [
      "keyvalue pair for first [2, 4, 6]\n",
      "keyvalue pair for second ['John', 'Mary', 'Malcom']\n"
     ]
    }
   ],
   "source": [
    "#Frozenset as a key in dictionary\n",
    "\n",
    "val1 = [2,4,6]\n",
    "val2 = ['John','Mary','Malcom']\n",
    "key1=frozenset(val1)\n",
    "key2=frozenset(val2)\n",
    "CompDict ={key1: val1,\n",
    "          key2: val2}\n",
    "\n",
    "print(\"keyvalue pair for first\",CompDict[key1])\n",
    "print(\"keyvalue pair for second\",CompDict[key2])\n"
   ]
  },
  {
   "cell_type": "code",
   "execution_count": 11,
   "id": "439d9ee4",
   "metadata": {},
   "outputs": [
    {
     "name": "stdout",
     "output_type": "stream",
     "text": [
      "Frozenset with the square of odd numbers is as follows:\n",
      " frozenset({1, 121, 225, 9, 169, 81, 49, 25})\n"
     ]
    }
   ],
   "source": [
    "# Generate a frozenset containing the squares of all odd numbers from 1 to 15 using set comprehension.\n",
    "SquareOfOdds= frozenset({x**2 for x in range(1,16) if x%2 != 0})\n",
    "print(\"Frozenset with the square of odd numbers is as follows:\\n\",SquareOfOdds)"
   ]
  },
  {
   "cell_type": "code",
   "execution_count": 1,
   "id": "2bc9d48e",
   "metadata": {},
   "outputs": [
    {
     "name": "stdout",
     "output_type": "stream",
     "text": [
      "initial bytearray:  bytearray(b'Abhay Kumar')\n",
      "reversed bytearray:  bytearray(b'ramuK yahbA')\n"
     ]
    }
   ],
   "source": [
    "# Reversing ByteArray\n",
    "BA = bytearray(b'Abhay Kumar')\n",
    "memview=memoryview(BA)\n",
    "revmemview=memview[::-1]\n",
    "revBA= bytearray(revmemview)\n",
    "print(\"initial bytearray: \", BA)\n",
    "print(\"reversed bytearray: \", revBA )"
   ]
  },
  {
   "cell_type": "code",
   "execution_count": 15,
   "id": "c1be35ae",
   "metadata": {},
   "outputs": [
    {
     "name": "stdout",
     "output_type": "stream",
     "text": [
      "Original date: 2024-01-07\n",
      "Converted date: 07-01-2024\n"
     ]
    }
   ],
   "source": [
    "from datetime import datetime \n",
    "\n",
    "def convert(d):\n",
    "    format_old = datetime.strptime(d, '%Y-%m-%d')\n",
    "    format_new = format_old.strftime('%d-%m-%Y')\n",
    "    return format_new\n",
    "\n",
    "date_input = '2024-01-07'\n",
    "\n",
    "converted_date = convert(date_input)\n",
    "print(\"Original date:\", date_input)\n",
    "print(\"Converted date:\", converted_date)\n"
   ]
  },
  {
   "cell_type": "code",
   "execution_count": null,
   "id": "6bf1c35a",
   "metadata": {},
   "outputs": [],
   "source": []
  }
 ],
 "metadata": {
  "kernelspec": {
   "display_name": "Python 3 (ipykernel)",
   "language": "python",
   "name": "python3"
  },
  "language_info": {
   "codemirror_mode": {
    "name": "ipython",
    "version": 3
   },
   "file_extension": ".py",
   "mimetype": "text/x-python",
   "name": "python",
   "nbconvert_exporter": "python",
   "pygments_lexer": "ipython3",
   "version": "3.9.7"
  }
 },
 "nbformat": 4,
 "nbformat_minor": 5
}
