{
 "cells": [
  {
   "cell_type": "markdown",
   "id": "1ea2fa0e",
   "metadata": {},
   "source": [
    "<table width = 800 align=\"left\" style=\"font-size:18px\">\n",
    "<tr>\n",
    "    <td style=\"text-align:left\"><b>Name</b></td>\n",
    "    <td style=\"text-align:left\">Sai Abhay Kumar Maradapu Vera Venkata</td>\n",
    "</tr>\n",
    "<tr>\n",
    "    <td style=\"text-align:left\"><b>Assignment:</b></td>\n",
    "    <td style=\"text-align:left\"> After Session 3</td>\n",
    "</tr>\n",
    "</table>"
   ]
  },
  {
   "cell_type": "markdown",
   "id": "d26af64b",
   "metadata": {},
   "source": [
    "<p><b>Q1) How can you randomize the items of a list in place in Python?? </b></p> \n",
    "Ans- We can use .shuffle() function from the module \" random \" in Python. This would shuffle/ randomize the items in a given list.\n",
    "<p>Below is an example code doing the following.</p>"
   ]
  },
  {
   "cell_type": "code",
   "execution_count": 11,
   "id": "022175f1",
   "metadata": {},
   "outputs": [
    {
     "name": "stdout",
     "output_type": "stream",
     "text": [
      "[2, 4, 6, 8, 10, 12]\n",
      "The randomized list is [10, 6, 8, 4, 12, 2]\n"
     ]
    }
   ],
   "source": [
    "import random\n",
    "\n",
    "List1= [2,4,6,8,10,12]\n",
    "print( List1)\n",
    "random.shuffle(List1)\n",
    "print(\"The randomized list is\", List1)"
   ]
  },
  {
   "cell_type": "markdown",
   "id": "5792930c",
   "metadata": {},
   "source": [
    "<p><b>Q2) What does [::-1] do?</b></p> \n",
    "Ans- It is simply used to reverse a string or the items in a list based on the order.\n",
    "<p>Sample code:</p>"
   ]
  },
  {
   "cell_type": "code",
   "execution_count": 14,
   "id": "a3723f81",
   "metadata": {},
   "outputs": [
    {
     "name": "stdout",
     "output_type": "stream",
     "text": [
      "[2, 12, 4, 8, 6, 10]\n",
      "ereh yahbA\n"
     ]
    }
   ],
   "source": [
    "Reverse_list= List1[::-1]\n",
    "string1=\"Abhay here\"\n",
    "Reverse_string= string1[::-1]\n",
    "print(Reverse_list)\n",
    "print(Reverse_string)"
   ]
  },
  {
   "cell_type": "markdown",
   "id": "34651684",
   "metadata": {},
   "source": [
    "<p><b>Q3) What is the lambda function in Python?</b></p> \n",
    "Ans - They can be looked at as nameless userdefined functions. They usually help in storing simple expressions.\n",
    "<p>Sample code:</p>"
   ]
  },
  {
   "cell_type": "code",
   "execution_count": 15,
   "id": "1d876b25",
   "metadata": {},
   "outputs": [
    {
     "name": "stdout",
     "output_type": "stream",
     "text": [
      "133\n"
     ]
    }
   ],
   "source": [
    "Sample_lambda = lambda x, y: (x*x*x) + (y*y*y)\n",
    "Output = Sample_lambda(2,5)\n",
    "print(Output)  "
   ]
  },
  {
   "cell_type": "markdown",
   "id": "0c0cbd23",
   "metadata": {},
   "source": [
    "<p><b>Q4) What is the Difference Between Classmethod and Staticmethod?</b></p>\n",
    "Ans- Class mehtod in general has class as its first argument and can modify the class state. Static method on the other hand does not have such first arguments or any parameters but instead can be defined inside a particular class."
   ]
  },
  {
   "cell_type": "markdown",
   "id": "cc2a1e3d",
   "metadata": {},
   "source": [
    "<p><b>Q5) What do you understand by Tkinter??</b></p>\n",
    "Ans- It is a basic GUI toolkit provided in python with whch we can create any applications. Just like any other GUI it also has root, label, buttons etc.\n"
   ]
  },
  {
   "cell_type": "markdown",
   "id": "e93dda33",
   "metadata": {},
   "source": [
    "<p><b>Q6) What is GIL and what are some of the ways to get around it?</b></p>\n",
    "Ans- The Global Interpreter Lock is a lock that allows only one thread to have control of the python interpreter. So only one thread would be in the execution process in that given time. However this causes a lot of issues in multi-threaded tasks casue of this single execution restriction.\n",
    "<p>Using NumPy is a way to bypass it or we can also do multiprocessing cause that would mean having a seperate interpreter everytime.</p>\n"
   ]
  },
  {
   "cell_type": "markdown",
   "id": "66daf91a",
   "metadata": {},
   "source": [
    "<p><b>Q7) Write a code to display the contents of a file in reverse.?</b></p>"
   ]
  },
  {
   "cell_type": "code",
   "execution_count": 12,
   "id": "3c99891d",
   "metadata": {},
   "outputs": [
    {
     "name": "stdout",
     "output_type": "stream",
     "text": [
      ".olleH\n"
     ]
    }
   ],
   "source": [
    "path = r'C:\\Users\\abhay\\Desktop\\Python Training\\RevFile.txt'\n",
    "\n",
    "try:\n",
    "    with open(path, 'r') as f:\n",
    "        lines = f.read() \n",
    "        revlines = lines[::-1]  \n",
    "        print(revlines)\n",
    "except FileNotFoundError:\n",
    "    print(f\"File '{path}' not found.\")\n"
   ]
  },
  {
   "cell_type": "markdown",
   "id": "0da84ee7",
   "metadata": {},
   "source": [
    "<p><b>Q8) Which one of the following is not the correct syntax for creating a set in Python?</b></p>\n",
    "<ul>\n",
    "    <li>set([[1,2],[3,4],[4,5]])</li>\n",
    "    <li>set([1,2,2,3,4,5])</li>\n",
    "    <li>{1,2,3,4}</li>\n",
    "    <li>set((1,2,3,4))</li>\n",
    "</ul>\n",
    "Ans- set([[1,2],[3,4],[4,5]])"
   ]
  },
  {
   "cell_type": "markdown",
   "id": "5ea3d4b6",
   "metadata": {},
   "source": [
    "<p><b>Q9) How do you iterate over a list and pull element indices at the same time?</b></p>\n",
    "Ans- We can use the enumerate function for this.\n",
    "<p> Sample code:</p>\n"
   ]
  },
  {
   "cell_type": "code",
   "execution_count": 7,
   "id": "6e2931b7",
   "metadata": {},
   "outputs": [
    {
     "name": "stdout",
     "output_type": "stream",
     "text": [
      "0 -> a\n",
      "1 -> e\n",
      "2 -> i\n",
      "3 -> o\n",
      "4 -> u\n"
     ]
    }
   ],
   "source": [
    "List2=[\"a\",\"e\",\"i\",\"o\",\"u\"]\n",
    "for i, char in enumerate(List2):\n",
    "    print (i,\"->\",char)"
   ]
  },
  {
   "cell_type": "markdown",
   "id": "ccf02f3c",
   "metadata": {},
   "source": [
    "<p><b>Q10) What is docstring in Python?</b></p>\n",
    "Ans- In short it is a string that can be used to document a fucntion or method or class in Python, so that in a way we can describe what a code does in python. It it represented with triple quotes (\"\"\") and is mentioned initially after defined function.\n"
   ]
  },
  {
   "cell_type": "markdown",
   "id": "c07110f5",
   "metadata": {},
   "source": [
    "<p><b>Q11) What Are Generator Functions? Write Your Version of Range</p></b>\n",
    "Ans- Functions that act like iterators are called Generator functions. For writting my version of range I am assuming you have asked me to write the range function as a generator.\n",
    "<p>Sample code for a generator function for range of numbers:</p>"
   ]
  },
  {
   "cell_type": "code",
   "execution_count": 7,
   "id": "c0fe7e5c",
   "metadata": {},
   "outputs": [
    {
     "name": "stdout",
     "output_type": "stream",
     "text": [
      "1\n",
      "2\n",
      "3\n",
      "4\n",
      "5\n",
      "6\n",
      "7\n",
      "8\n",
      "9\n"
     ]
    }
   ],
   "source": [
    "def GenFunction_range(start, stop, step=1):\n",
    "    current = start\n",
    "    while current < stop if step > 0 else current > stop:\n",
    "        yield current\n",
    "        current += step\n",
    "\n",
    "for i in GenFunction_range(1,10):\n",
    "    print(i)"
   ]
  },
  {
   "cell_type": "markdown",
   "id": "5ce133de",
   "metadata": {},
   "source": [
    "<p><b>Q12) How many ways can you append or concatenate strings? Which of these ways is fastest? Easiest to read?</b></p>\n",
    "Ans- We can concatenate strings in a few ways like using \"+\" operator, .join() operator and also using formatted strings. \n",
    "<p> Fastest way could depend on the size of the string. \"+\" operator can be the fastest if the size of the string is small but\n",
    "    on a widerscale .join() operator is more efficient and is also more readable.</p>\n",
    "<p></p>"
   ]
  },
  {
   "cell_type": "markdown",
   "id": "b8de4c8f",
   "metadata": {},
   "source": [
    "<p><b>Q13) What is pickling and unpickling in Python?</b></p>\n",
    "Ans- Both of these methods are from the pickle module where pickling is used to convert an object into byte stream. Unpickling is reconstructing the object from this byte stream. These methods in general provide flexibilty when it comes to storing and retriving these objects."
   ]
  },
  {
   "cell_type": "markdown",
   "id": "8c635ad1",
   "metadata": {},
   "source": [
    "<p><b>Q14) Demonstrate monkey patching and where is it used</b></p>\n",
    "\n",
    "Ans- Monkey patching in short means the run-time modifications we make in a class or module. These changes are not done in source code so it is basically altering the code. They are usually used in testing or patching libraries. "
   ]
  },
  {
   "cell_type": "markdown",
   "id": "c2f04899",
   "metadata": {},
   "source": [
    "<p><b>Q15) I'm getting a maximum recursion depth error for a function. What does this mean? How can I mitigate the problem?</b></p>\n",
    "Ans- When a function calls itself(recursion) too many times without meeting a terminating condition it will cause a stack overflow situation, hence resulting to this error.\n",
    "<p>The most common practice to deal with this situation is using loops which use less memory.</p>"
   ]
  },
  {
   "cell_type": "markdown",
   "id": "547c1ad2",
   "metadata": {},
   "source": [
    "<p><b>Q16) How do you split the data into train and test datasets?</b></p>\n",
    "\n",
    "Ans- Python has a \"sklearn.model_selection\" module which has a train_test_split function. This lets us in splitting data into train and test data sets, and we can also assign the test size."
   ]
  },
  {
   "cell_type": "markdown",
   "id": "4ba3a56d",
   "metadata": {},
   "source": [
    "<p><b>Q17)What are *args and **kwargs in Python functions</b></p>\n",
    "Ans- They are used to handle variable length of arguments passed to the functions. Here args is used for positional arguments and kwargs is used for keyword arguments"
   ]
  },
  {
   "cell_type": "markdown",
   "id": "c24cbd91",
   "metadata": {},
   "source": [
    "<p><b>Q18) What’s your favorite standard library module?</b></p>\n",
    "Ans- Personally I like the idea behind the math and cmath module in python because of how effectively we can solve expression in code without having to deal with the calculations from scratch. They provide a wider scale for programming especisally when it comes to dealing with algorithms in general.\n"
   ]
  },
  {
   "cell_type": "code",
   "execution_count": null,
   "id": "7c88f129",
   "metadata": {},
   "outputs": [],
   "source": []
  }
 ],
 "metadata": {
  "kernelspec": {
   "display_name": "Python 3 (ipykernel)",
   "language": "python",
   "name": "python3"
  },
  "language_info": {
   "codemirror_mode": {
    "name": "ipython",
    "version": 3
   },
   "file_extension": ".py",
   "mimetype": "text/x-python",
   "name": "python",
   "nbconvert_exporter": "python",
   "pygments_lexer": "ipython3",
   "version": "3.9.7"
  }
 },
 "nbformat": 4,
 "nbformat_minor": 5
}
